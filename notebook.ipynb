{
 "cells": [
  {
   "cell_type": "markdown",
   "id": "d2eb6778",
   "metadata": {},
   "source": [
    "Here is the code to release the queries with the parameters you have selected using the OpenDP library"
   ]
  },
  {
   "cell_type": "code",
   "execution_count": null,
   "id": "fc143083",
   "metadata": {},
   "outputs": [],
   "source": [
    "# notebook imports\n",
    "import opendp.prelude as dp\n",
    "import math\n",
    "import pandas as pd\n",
    "import numpy as np\n",
    "dp.enable_features(\"contrib\")\n",
    "dp.enable_features(\"honest-but-curious\")\n",
    "from typing import List"
   ]
  },
  {
   "cell_type": "markdown",
   "id": "93e0d085",
   "metadata": {},
   "source": [
    "## Query: sex_histogram"
   ]
  },
  {
   "cell_type": "code",
   "execution_count": null,
   "id": "b266d350",
   "metadata": {},
   "outputs": [],
   "source": [
    "df = pd.read_csv('https://raw.githubusercontent.com/lpanavas/DPEducationDatasets/master/PUMS_california_demographics_1000.csv')"
   ]
  },
  {
   "cell_type": "code",
   "execution_count": null,
   "id": "f06b602f",
   "metadata": {},
   "outputs": [],
   "source": [
    "query_info = {\"export_selected_query\": \"sex_histogram\", \"export_mechanism\": \"gaussian\", \"export_epsilon\": 0.25, \"url\": \"https://raw.githubusercontent.com/lpanavas/DPEducationDatasets/master/PUMS_california_demographics_1000.csv\", \"export_data_type\": \"categorical\", \"export_delta\": 1e-06}"
   ]
  },
  {
   "cell_type": "code",
   "execution_count": null,
   "id": "ee85cf24",
   "metadata": {},
   "outputs": [],
   "source": [
    "def at_delta(meas, delta):\n",
    "    meas = dp.c.make_zCDP_to_approxDP(meas)\n",
    "    return dp.c.make_fix_delta(meas, delta)"
   ]
  },
  {
   "cell_type": "code",
   "execution_count": null,
   "id": "6c0652f9",
   "metadata": {},
   "outputs": [],
   "source": [
    "# Load data and get parameters\n",
    "df = pd.read_csv('https://raw.githubusercontent.com/lpanavas/DPEducationDatasets/master/PUMS_california_demographics_1000.csv')\n",
    "query_type = 'sex_histogram'\n",
    "mechanism = 'gaussian'\n",
    "epsilon = 0.25\n",
    "column_name = 'sex'\n",
    "categories = [0, 1]\n",
    "column_type = df[column_name].dtype"
   ]
  },
  {
   "cell_type": "code",
   "execution_count": null,
   "id": "eadfdf36",
   "metadata": {},
   "outputs": [],
   "source": [
    "delta = 1e-06\n",
    "t_hist = (\n",
    "    dp.t.make_split_dataframe(separator=\",\", col_names=list(df.columns)) >>\n",
    "    dp.t.make_select_column(column_name, str) >>\n",
    "    dp.t.then_cast_default(int) >>\n",
    "    dp.t.then_count_by_categories(categories=categories, MO=dp.L2Distance[float])\n",
    ")\n",
    "m_hist = dp.binary_search_chain(\n",
    "    lambda s: at_delta(t_hist >> dp.m.then_gaussian(scale=s), delta), \n",
    "    d_in=1, \n",
    "    d_out=(epsilon, delta))\n",
    "sensitive_gaussian_counts = m_hist(df.to_csv(index=False, header=False))"
   ]
  },
  {
   "cell_type": "code",
   "execution_count": null,
   "id": "32616097",
   "metadata": {},
   "outputs": [],
   "source": [
    "print(\"Noisy Gaussian Counts:\", sensitive_gaussian_counts[:-1])"
   ]
  }
 ],
 "metadata": {},
 "nbformat": 4,
 "nbformat_minor": 5
}
