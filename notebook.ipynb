{
 "cells": [
  {
   "cell_type": "markdown",
   "id": "7e23c920",
   "metadata": {},
   "source": [
    "Here is the code to release the queries with the parameters you have selected using the OpenDP library"
   ]
  },
  {
   "cell_type": "code",
   "execution_count": null,
   "id": "4e90e035",
   "metadata": {},
   "outputs": [],
   "source": [
    "# !pip install opendp"
   ]
  },
  {
   "cell_type": "code",
   "execution_count": null,
   "id": "34ef087d",
   "metadata": {},
   "outputs": [],
   "source": [
    "# notebook imports\n",
    "import opendp.prelude as dp\n",
    "import math\n",
    "import pandas as pd\n",
    "import numpy as np\n",
    "dp.enable_features(\"contrib\")\n",
    "dp.enable_features(\"honest-but-curious\")\n",
    "from typing import List"
   ]
  },
  {
   "cell_type": "markdown",
   "id": "d092ecca",
   "metadata": {},
   "source": [
    "## Query: age_histogram"
   ]
  },
  {
   "cell_type": "code",
   "execution_count": null,
   "id": "55368821",
   "metadata": {},
   "outputs": [],
   "source": [
    "df = pd.read_csv('https://raw.githubusercontent.com/lpanavas/DPEducationDatasets/master/PUMS_california_demographics_1000.csv')"
   ]
  },
  {
   "cell_type": "code",
   "execution_count": null,
   "id": "efa07063",
   "metadata": {},
   "outputs": [],
   "source": [
    "query_info = {\"export_selected_query\": \"age_histogram\", \"export_mechanism\": \"laplace\", \"export_epsilon\": 0.25, \"url\": \"https://raw.githubusercontent.com/lpanavas/DPEducationDatasets/master/PUMS_california_demographics_1000.csv\", \"export_data_type\": \"continuous\", \"export_lower_bound\": 18, \"export_upper_bound\": 93, \"export_num_bins\": 10}"
   ]
  },
  {
   "cell_type": "code",
   "execution_count": null,
   "id": "029e326c",
   "metadata": {},
   "outputs": [],
   "source": [
    "def at_delta(meas, delta):\n",
    "    meas = dp.c.make_zCDP_to_approxDP(meas)\n",
    "    return dp.c.make_fix_delta(meas, delta)"
   ]
  },
  {
   "cell_type": "code",
   "execution_count": null,
   "id": "b2e1a430",
   "metadata": {},
   "outputs": [],
   "source": [
    "# Load data and get parameters\n",
    "df = pd.read_csv('https://raw.githubusercontent.com/lpanavas/DPEducationDatasets/master/PUMS_california_demographics_1000.csv')\n",
    "query_type = 'age_histogram'\n",
    "mechanism = 'laplace'\n",
    "epsilon = 0.25\n",
    "column_name = 'age'\n",
    "column_type = df[column_name].dtype\n",
    "min_val = 18\n",
    "max_val = 93\n",
    "num_bins = 10\n",
    "bin_edges = np.linspace(min_val, max_val, num_bins + 1, dtype=column_type)"
   ]
  },
  {
   "cell_type": "code",
   "execution_count": null,
   "id": "65469d6a",
   "metadata": {},
   "outputs": [],
   "source": [
    "binner = dp.t.make_find_bin(dp.vector_domain(dp.atom_domain(T=int)), dp.symmetric_distance(), edges=bin_edges[1:-1])\n",
    "histogram = (\n",
    "    dp.t.make_split_dataframe(separator=\",\", col_names=list(df.columns)) >>\n",
    "    dp.t.make_select_column(column_name, str) >>\n",
    "    dp.t.then_cast_default(int) >> \n",
    "    binner>>\n",
    "    dp.t.then_count_by_categories(categories=np.arange(num_bins-1), MO=dp.L1Distance[int])\n",
    ")\n",
    "noisy_laplace_histogram = dp.binary_search_chain(\n",
    "    lambda s: histogram >> dp.m.then_laplace(scale=s),\n",
    "    d_in=1, d_out=epsilon)\n",
    "sensitive_laplace_counts = noisy_laplace_histogram(df.to_csv(index=False, header=False))\n",
    "print(\"Noisy Laplace Counts:\", sensitive_laplace_counts[:-1])"
   ]
  }
 ],
 "metadata": {},
 "nbformat": 4,
 "nbformat_minor": 5
}
