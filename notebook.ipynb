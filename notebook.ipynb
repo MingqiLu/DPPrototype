{
 "cells": [
  {
   "cell_type": "markdown",
   "id": "2ecde206",
   "metadata": {},
   "source": [
    "Here is the code to release the queries with the parameters you have selected using the OpenDP library"
   ]
  },
  {
   "cell_type": "code",
   "execution_count": null,
   "id": "091254f2",
   "metadata": {},
   "outputs": [],
   "source": [
    "# notebook imports\n",
    "import opendp.prelude as dp\n",
    "import pandas as pd\n",
    "import numpy as np\n",
    "dp.enable_features(\"contrib\")\n",
    "from typing import List"
   ]
  },
  {
   "cell_type": "markdown",
   "id": "a569709c",
   "metadata": {},
   "source": [
    "## Query: age_average"
   ]
  },
  {
   "cell_type": "code",
   "execution_count": null,
   "id": "516b48c7",
   "metadata": {},
   "outputs": [],
   "source": [
    "df = pd.read_csv('https://raw.githubusercontent.com/lpanavas/DPEducationDatasets/master/PUMS_california_demographics_1000.csv')"
   ]
  },
  {
   "cell_type": "code",
   "execution_count": null,
   "id": "b086f2b8",
   "metadata": {},
   "outputs": [],
   "source": [
    "query_info = {\"age_average\": {\"lower_bound\": 0, \"upper_bound\": 100, \"bins\": 5, \"column\": \"age\", \"epsilon\": 0.25, \"url\": \"https://raw.githubusercontent.com/lpanavas/DPEducationDatasets/master/PUMS_california_demographics_1000.csv\"}}"
   ]
  },
  {
   "cell_type": "code",
   "execution_count": null,
   "id": "3f3f9867",
   "metadata": {},
   "outputs": [],
   "source": [
    "domainType = dp.domain_of(List[int])"
   ]
  },
  {
   "cell_type": "code",
   "execution_count": null,
   "id": "8b7890f4",
   "metadata": {},
   "outputs": [],
   "source": [
    "context = dp.Context.compositor(\n",
    "                                data=list(df[\"age\"]),  # Actual column name\n",
    "                                privacy_unit=dp.unit_of(contributions=1),\n",
    "                                privacy_loss=dp.loss_of(epsilon=0.25),  # Actual epsilon\n",
    "                                domain=domainType, \n",
    "                                split_evenly_over=1\n",
    "                            )\n",
    "dp_sum = context.query().clamp((0, 100)).sum().laplace()\n",
    "private_release = dp_sum.release() / df.shape[0]  # Average calculation\n",
    "print(f\"Private release for query=age_average: {private_release}\")"
   ]
  }
 ],
 "metadata": {},
 "nbformat": 4,
 "nbformat_minor": 5
}
