{
 "cells": [
  {
   "cell_type": "markdown",
   "id": "a9457d41",
   "metadata": {},
   "source": [
    "Here is the code to release the queries with the parameters you have selected using the OpenDP library"
   ]
  },
  {
   "cell_type": "code",
   "execution_count": null,
   "id": "484d2001",
   "metadata": {},
   "outputs": [],
   "source": [
    "# !pip install opendp"
   ]
  },
  {
   "cell_type": "code",
   "execution_count": null,
   "id": "a1ec8c75",
   "metadata": {},
   "outputs": [],
   "source": [
    "# notebook imports\n",
    "import opendp.prelude as dp\n",
    "import math\n",
    "import pandas as pd\n",
    "import numpy as np\n",
    "dp.enable_features(\"contrib\")\n",
    "dp.enable_features(\"honest-but-curious\")\n",
    "from typing import List"
   ]
  },
  {
   "cell_type": "markdown",
   "id": "c607c31b",
   "metadata": {},
   "source": [
    "## Query: workclass_histogram"
   ]
  },
  {
   "cell_type": "code",
   "execution_count": null,
   "id": "a7e958b9",
   "metadata": {},
   "outputs": [],
   "source": [
    "df = pd.read_csv('https://raw.githubusercontent.com/lpanavas/DPEducationDatasets/master/adult_income.csv')"
   ]
  },
  {
   "cell_type": "code",
   "execution_count": null,
   "id": "4f7a171d",
   "metadata": {},
   "outputs": [],
   "source": [
    "query_info = {\"export_selected_query\": \"workclass_histogram\", \"export_mechanism\": \"laplace\", \"export_epsilon\": 0.25, \"url\": \"https://raw.githubusercontent.com/lpanavas/DPEducationDatasets/master/adult_income.csv\", \"export_data_type\": \"categorical\"}"
   ]
  },
  {
   "cell_type": "code",
   "execution_count": null,
   "id": "4f8ded77",
   "metadata": {},
   "outputs": [],
   "source": [
    "def at_delta(meas, delta):\n",
    "    meas = dp.c.make_zCDP_to_approxDP(meas)\n",
    "    return dp.c.make_fix_delta(meas, delta)"
   ]
  },
  {
   "cell_type": "code",
   "execution_count": null,
   "id": "1fbdd60e",
   "metadata": {},
   "outputs": [],
   "source": [
    "# Load data and get parameters\n",
    "df = pd.read_csv('https://raw.githubusercontent.com/lpanavas/DPEducationDatasets/master/adult_income.csv')\n",
    "query_type = 'workclass_histogram'\n",
    "mechanism = 'laplace'\n",
    "epsilon = 0.25\n",
    "column_name = 'workclass'\n",
    "categories = [' ?', ' Federal-gov', ' Local-gov', ' Never-worked', ' Private', ' Self-emp-inc', ' Self-emp-not-inc', ' State-gov', ' Without-pay']\n",
    "column_type = df[column_name].dtype"
   ]
  },
  {
   "cell_type": "code",
   "execution_count": null,
   "id": "2f03cab4",
   "metadata": {},
   "outputs": [],
   "source": [
    "histogram = (\n",
    "dp.t.make_split_dataframe(separator=\",\", col_names=list(df.columns)) >>\n",
    "dp.t.make_select_column(column_name, str) >>\n",
    "dp.t.then_count_by_categories(categories=[c[1:] for c in categories], MO=dp.L1Distance[int] )\n",
    ")\n",
    "noisy_laplace_histogram = dp.binary_search_chain(\n",
    "lambda s: histogram >> dp.m.then_laplace(scale=s),\n",
    "d_in=1, d_out=epsilon)\n",
    "sensitive_counts = noisy_laplace_histogram(df.to_csv(index=False, header=False))"
   ]
  },
  {
   "cell_type": "code",
   "execution_count": null,
   "id": "97379f84",
   "metadata": {},
   "outputs": [],
   "source": [
    "print(\"Noisy Laplace Counts:\", sensitive_counts[:-1])"
   ]
  }
 ],
 "metadata": {},
 "nbformat": 4,
 "nbformat_minor": 5
}
